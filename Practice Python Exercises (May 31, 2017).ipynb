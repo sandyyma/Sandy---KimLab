{
 "cells": [
  {
   "cell_type": "markdown",
   "metadata": {},
   "source": [
    "# PRATICE PYTHON EXERICSES"
   ]
  },
  {
   "cell_type": "markdown",
   "metadata": {},
   "source": [
    "# Coding Bat"
   ]
  },
  {
   "cell_type": "markdown",
   "metadata": {},
   "source": [
    "#### Link: http://codingbat.com/python"
   ]
  },
  {
   "cell_type": "code",
   "execution_count": null,
   "metadata": {
    "collapsed": true
   },
   "outputs": [],
   "source": [
    "['LPNLTE EQRNGY IASLKW NPSNSK KLLAAA KLRNK QQALK VKTSV\\n',\n",
    " 'LPNLTE EARNGW ILSLKL DPSNSK KLLAQA KKQNI SNAQN VVRVV\\n',\n",
    " 'LPNLTEENRNGAIIMLKLNPSNSKKLLAQAKKNNLNNAARVVLNV\\n',\n",
    " 'LPNLTEAQRNGWIELLKWNPSRSKKLLAAAKKNNANNAAKVVTSV\\n',\n",
    " 'LPNLTEEQRNGWIRMLRLKPSVSKKLLALAKWNNKQNAKRVVKLV\\n',\n",
    " 'LPNLTEEARNGWILMLKINPSNSKDILAAAKAQNLNIALKVVKVV\\n',\n",
    " 'LPNLTEEQRNGYIISLKWNPSNSKTLLAQAKKRNKRQAAWVKRVV\\n',\n",
    " 'LPNLTEERRNGHIILLKANPSKSKTILANAKLNNIQIALKVVLRV\\n',\n",
    " 'LPNLTEEQRNGYIISLKMNPTNSKKLLAAAKLNNKNQALNVVKVV\\n',\n",
    " 'LPNLSESQRNGAIWALRMNPSRSKRILAMAKRNNKHNARSVSTSV\\n',\n",
    " 'LPNLTEEQRNGWIQSLKWNPSNSKTLLAAAKLQNLQQALKVKRSV\\n',\n",
    " 'LPNLTEEQRNGHIAMLKLDPSNSKNLLANAKKQNKQQALNVVRIV\\n',\n",
    " 'LPNLSEAQRNGAIALLKLAPSNSKKLLAAAKAQNIHNAQAVVISV\\n',\n",
    " 'LPNLREAQRNGAIWLLLLNPSNSKNILAMAKKSNKHNARRVSTTV\\n',\n",
    " 'LPNLTEEQRNGMIKALRWVPSNSKTVLAVAKNNNKRQALRVKLRV\\n',\n",
    " 'LPNLRESQRNGAIRLLKRVPSRSKKILAMAKKTNKHNAQNVSLSV\\n',\n",
    " 'LPNLTEAQRNGWIIMLKLNPSRSKKILAAAKARNARNAANVVRTV\\n',\n",
    " 'LPNLTEEARNGWIELLKWNPSNSKKLLAAAKLQNIHNAQSVVLTV\\n',\n",
    " 'LPNLTEEKRNGIIALLKLNPTRSKKILANAKKRNKQQAANVVRVV\\n',\n",
    " 'LPNLTEAQRNGWIAMLKLNPTRSKKLLAAAKKRNKANAAQVVRSV\\n',\n",
    " 'LPNLHERQRNGWILLLIWLPSNSKNILARAKKQNKQNARNVVNLT\\n',\n",
    " 'LPNLTEEQRNGYIIMLRLNPSNSKKLLAAAKKQNKHNASNVVILV\\n',\n",
    " 'LPNLTEEKRNGAIALLALNPSNSKTLLIAAKLQNISNALKVVRNV\\n',\n",
    " 'LPNLTEEQRNGWIELLKWKPSRSKKILAAAKKRNLWQASRVVLSV\\n',\n",
    " 'LPNLTEEQRNGYIISLKWTPSNSKTLLAQAKNQNKRQALKVKLVV\\n',\n",
    " 'LPNLTEAQRNGWIALLKWNPSRSKKILAAAKKQNKNNASKVVRSV\\n',\n",
    " 'LPNLTEEQRNGHIISLKWSPSNSKKLLAAAKLQNLQNASRVVIVV\\n',\n",
    " 'LPNLTEEQRNGHIALLKMNPSNSKKILAEAKKNNINNAARVVRLV\\n',\n",
    " 'LPNLTEILRNGFILLLRMAPSNSKNILAMAKKQNINNARRVVTNV\\n',\n",
    " 'LPNLTEEQRNGIIASLKWNPSNSKTLLANAKLQNKANALNVKRVV\\n',\n",
    " 'LPNLTEEQRNGWIASLKLNPTRSKKLLAAAKKRNKSNASKVVKSV\\n',\n",
    " 'LPNLTEAQRNGYIASLKWNPSMSKKLLAAAKKNNAANALKVVRVV\\n',\n",
    " 'LPNLTEEARNGWIASLKWNPSRSKKLLIAAKANNKNNAAQVVRIV\\n',\n",
    " 'LPNLTEAQRNGYIASLKLNPSNSKKLLAAAKKQNLSNAARVVLIV\\n',\n",
    " 'LPNLTEEQRNGIIASLKWNPSNSKNLLAQAKLQNLQQASRVKLVV\\n',\n",
    " 'LPNLTEAQRNGWIALLRMNPSNSKNLLAAAKLQNIQNASSVVISV\\n',\n",
    " 'LPNLTEEERNGFIQALRWIPSNSKTVLALAKARNKRQARWVKLVV\\n',\n",
    " 'LPNLTEEARNGYIASLKMNPSNSKTLLASAKKQNLHNASRVVLLV\\n',\n",
    " 'LPNLTEAQRNGWIISLKWDPSNSKKLLAAAKKQNKQNAAKVVRVV\\n',\n",
    " 'LPNLTEAQRNGAIIMLAWNPSMSKKLLAAAKKNNISNAARVVLVV\\n',\n",
    " 'LPNLTEAQRNGYIASLAWDPSNSKKLLAAAKAQNISNASRVVIVV\\n',\n",
    " 'LPNLTELIRNGMIRLLRINPSNSKTILALAKSRNKRQARWVKLVV\\n',\n",
    " 'LPNLTEAQRNGWIALLRMNPSNSKKLLIAAKLQNKRNALKVVKLV\\n',\n",
    " 'LPNLTEEARNGQILTLIWNPSMSKLILANAKTNNKANAVKVVRVV\\n',\n",
    " 'LPNLTEEQRNGYIAMLALNPSNSKNLLAAAKLQNISNAARVVLLV\\n',\n",
    " 'LPNLTEEQRNGWIALLRWSPSNSKTLLAAAKKQNIHNASSVVRLV\\n',\n",
    " 'LPNLTEEARNGWIALLKWSPSNSKTLLIAAKANNKAQAAKVVRVV\\n',\n",
    " 'LPNLTEEQRNGWIRALKWNPSNSKKYLALAKLQNIQQAIIVKIRV\\n',\n",
    " 'LPNLTEAARNGYIALLALNPSNSKKLLAAAKARNKRQAAKVVRVV\\n',\n",
    " 'LPNLTEAQRNGWIAMLKWNPSRSKKLLAAAKKQNKANASKVVKST\\n',\n",
    " 'LPNLTEEARNGWIAMLKWNPSRSKKLLAAAKKRNKANASKVVAIT\\n',\n",
    " 'LPNLTEEARNGWILLLKLNPSRSKDILARAKKKNKSNALKVALVV\\n',\n",
    " 'LPNLTEEQRNGYIAMLKMNPSNSKTILAQAKKNNIRNARQVVRNV\\n',\n",
    " 'LPNLTEEKRNGWIALLKWNPSRSKKLLAAAKKQNKANAAQVVRST\\n',\n",
    " 'LPNLTEEARNGFIALLKINPSRSKDILARAKKKNIWQASRVVLVS\\n',\n",
    " 'LPNLTEEARNGHIAMLKWSPSNSKKLLIAAKLRNKRNALKVVRVV\\n',\n",
    " 'LPNLTEEQRNGYIASLKWNPSNSKNLLANAKKQNLHNALNVVRIV\\n',\n",
    " 'LPNLTETNRNGFILLLRLNPSRSKTILANAKKNNAHRARSVVLLV\\n',\n",
    " 'LPNLTEEQRNGHIASLKWNPSNSKTLLAQAKARNKRQALWVKLVV\\n',\n",
    " 'LPNLTEEQRNGWIALLRMNPSNSKNLLASAKLNNLQNASRVVLLV\\n',\n",
    " 'LPNLTEEARNGWIAMLKLSPSNSKKLLAAAKLQNLQNAARVVILV\\n',\n",
    " 'LPNLTEEARNGYIAMLKLNPSNSKKLLAAAKLRNLNQALNVVKSV\\n',\n",
    " 'LPNLTEEARNGWILLLKWTPSRSKDILAAAKARNLANALNVVRSV\\n',\n",
    " 'LPNLTEAQRNGWIALLKINPSRSKKLLAEAKKNNLNNAAQVVRTV\\n',\n",
    " 'LPNLTEEARNGWIILLKLNPSRSKKLLAAAKKNNKWNASKVVTSV\\n',\n",
    " 'LPNLTEEQRNGAILMLKLNPSNSKKLLINAKARNKRNALQVVKVV\\n',\n",
    " 'LPNLTEEARNGAIASLKLAPSNSKKLLAAAKKRNASNASKVVKVV\\n',\n",
    " 'LPNLTEAQRNGYIAMLRLSPSNSKKLLAAAKKNNIHNARNVVILV\\n',\n",
    " 'LPNLTEEQRNGAIISLKWNPSNSKTLLIQAKARNIRQALAVKLVV\\n',\n",
    " 'LPNLTEEQRNGWIAMLKLNPTRSKKLLAAAKKQNISNAAKVVILV\\n',\n",
    " 'LPNLSEAQRNGAILLLLLNPSNSKNILAMAKKNNKHNARAVSVTV\\n',\n",
    " 'LPNLTEEQRNGYIAMLRWSPSNSKTLLANAKLQNLSQAARVVILV\\n',\n",
    " 'LPNLTEEQRNGAIAMLKINPSNSKKLLAAAKKNNKQNASNVVTNV\\n',\n",
    " 'LPNLTEEARNGYIISLKMNPSNSKKLLIAAKLRNKRQAALVVLVV\\n',\n",
    " 'LPNLTEEQRNGAIQALKWIPSNSKTVLALAKLKNKAQAKWVKLVV\\n']"
   ]
  },
  {
   "cell_type": "code",
   "execution_count": null,
   "metadata": {
    "collapsed": true
   },
   "outputs": [],
   "source": [
    "['LPNLTEEQRNGYIASLKWNPSNSKKLLAAAKLRNKQQALKVKTSV\\n',\n",
    " 'LPNLTEEARNGWILSLKLDPSNSKKLLAQAKKQNISNAQNVVRVV\\n',\n",
    " 'LPNLTEENRNGAIIMLKLNPSNSKKLLAQAKKNNLNNAARVVLNV\\n',\n",
    " 'LPNLTEAQRNGWIELLKWNPSRSKKLLAAAKKNNANNAAKVVTSV\\n',\n",
    " 'LPNLTEEQRNGWIRMLRLKPSVSKKLLALAKWNNKQNAKRVVKLV\\n',\n",
    " 'LPNLTEEARNGWILMLKINPSNSKDILAAAKAQNLNIALKVVKVV\\n',\n",
    " 'LPNLTEEQRNGYIISLKWNPSNSKTLLAQAKKRNKRQAAWVKRVV\\n',\n",
    " 'LPNLTEERRNGHIILLKANPSKSKTILANAKLNNIQIALKVVLRV\\n',\n",
    " 'LPNLTEEQRNGYIISLKMNPTNSKKLLAAAKLNNKNQALNVVKVV\\n',\n",
    " 'LPNLSESQRNGAIWALRMNPSRSKRILAMAKRNNKHNARSVSTSV\\n',\n",
    " 'LPNLTEEQRNGWIQSLKWNPSNSKTLLAAAKLQNLQQALKVKRSV\\n',\n",
    " 'LPNLTEEQRNGHIAMLKLDPSNSKNLLANAKKQNKQQALNVVRIV\\n',\n",
    " 'LPNLSEAQRNGAIALLKLAPSNSKKLLAAAKAQNIHNAQAVVISV\\n',\n",
    " 'LPNLREAQRNGAIWLLLLNPSNSKNILAMAKKSNKHNARRVSTTV\\n',\n",
    " 'LPNLTEEQRNGMIKALRWVPSNSKTVLAVAKNNNKRQALRVKLRV\\n',\n",
    " 'LPNLRESQRNGAIRLLKRVPSRSKKILAMAKKTNKHNAQNVSLSV\\n',\n",
    " 'LPNLTEAQRNGWIIMLKLNPSRSKKILAAAKARNARNAANVVRTV\\n',\n",
    " 'LPNLTEEARNGWIELLKWNPSNSKKLLAAAKLQNIHNAQSVVLTV\\n',\n",
    " 'LPNLTEEKRNGIIALLKLNPTRSKKILANAKKRNKQQAANVVRVV\\n',\n",
    " 'LPNLTEAQRNGWIAMLKLNPTRSKKLLAAAKKRNKANAAQVVRSV\\n',\n",
    " 'LPNLHERQRNGWILLLIWLPSNSKNILARAKKQNKQNARNVVNLT\\n',\n",
    " 'LPNLTEEQRNGYIIMLRLNPSNSKKLLAAAKKQNKHNASNVVILV\\n',\n",
    " 'LPNLTEEKRNGAIALLALNPSNSKTLLIAAKLQNISNALKVVRNV\\n',\n",
    " 'LPNLTEEQRNGWIELLKWKPSRSKKILAAAKKRNLWQASRVVLSV\\n',\n",
    " 'LPNLTEEQRNGYIISLKWTPSNSKTLLAQAKNQNKRQALKVKLVV\\n',\n",
    " 'LPNLTEAQRNGWIALLKWNPSRSKKILAAAKKQNKNNASKVVRSV\\n',\n",
    " 'LPNLTEEQRNGHIISLKWSPSNSKKLLAAAKLQNLQNASRVVIVV\\n',\n",
    " 'LPNLTEEQRNGHIALLKMNPSNSKKILAEAKKNNINNAARVVRLV\\n',\n",
    " 'LPNLTEILRNGFILLLRMAPSNSKNILAMAKKQNINNARRVVTNV\\n',\n",
    " 'LPNLTEEQRNGIIASLKWNPSNSKTLLANAKLQNKANALNVKRVV\\n',\n",
    " 'LPNLTEEQRNGWIASLKLNPTRSKKLLAAAKKRNKSNASKVVKSV\\n',\n",
    " 'LPNLTEAQRNGYIASLKWNPSMSKKLLAAAKKNNAANALKVVRVV\\n',\n",
    " 'LPNLTEEARNGWIASLKWNPSRSKKLLIAAKANNKNNAAQVVRIV\\n',\n",
    " 'LPNLTEAQRNGYIASLKLNPSNSKKLLAAAKKQNLSNAARVVLIV\\n',\n",
    " 'LPNLTEEQRNGIIASLKWNPSNSKNLLAQAKLQNLQQASRVKLVV\\n',\n",
    " 'LPNLTEAQRNGWIALLRMNPSNSKNLLAAAKLQNIQNASSVVISV\\n',\n",
    " 'LPNLTEEERNGFIQALRWIPSNSKTVLALAKARNKRQARWVKLVV\\n',\n",
    " 'LPNLTEEARNGYIASLKMNPSNSKTLLASAKKQNLHNASRVVLLV\\n',\n",
    " 'LPNLTEAQRNGWIISLKWDPSNSKKLLAAAKKQNKQNAAKVVRVV\\n',\n",
    " 'LPNLTEAQRNGAIIMLAWNPSMSKKLLAAAKKNNISNAARVVLVV\\n',\n",
    " 'LPNLTEAQRNGYIASLAWDPSNSKKLLAAAKAQNISNASRVVIVV\\n',\n",
    " 'LPNLTELIRNGMIRLLRINPSNSKTILALAKSRNKRQARWVKLVV\\n',\n",
    " 'LPNLTEAQRNGWIALLRMNPSNSKKLLIAAKLQNKRNALKVVKLV\\n',\n",
    " 'LPNLTEEARNGQILTLIWNPSMSKLILANAKTNNKANAVKVVRVV\\n',\n",
    " 'LPNLTEEQRNGYIAMLALNPSNSKNLLAAAKLQNISNAARVVLLV\\n',\n",
    " 'LPNLTEEQRNGWIALLRWSPSNSKTLLAAAKKQNIHNASSVVRLV\\n',\n",
    " 'LPNLTEEARNGWIALLKWSPSNSKTLLIAAKANNKAQAAKVVRVV\\n',\n",
    " 'LPNLTEEQRNGWIRALKWNPSNSKKYLALAKLQNIQQAIIVKIRV\\n',\n",
    " 'LPNLTEAARNGYIALLALNPSNSKKLLAAAKARNKRQAAKVVRVV\\n',\n",
    " 'LPNLTEAQRNGWIAMLKWNPSRSKKLLAAAKKQNKANASKVVKST\\n',\n",
    " 'LPNLTEEARNGWIAMLKWNPSRSKKLLAAAKKRNKANASKVVAIT\\n',\n",
    " 'LPNLTEEARNGWILLLKLNPSRSKDILARAKKKNKSNALKVALVV\\n',\n",
    " 'LPNLTEEQRNGYIAMLKMNPSNSKTILAQAKKNNIRNARQVVRNV\\n',\n",
    " 'LPNLTEEKRNGWIALLKWNPSRSKKLLAAAKKQNKANAAQVVRST\\n',\n",
    " 'LPNLTEEARNGFIALLKINPSRSKDILARAKKKNIWQASRVVLVS\\n',\n",
    " 'LPNLTEEARNGHIAMLKWSPSNSKKLLIAAKLRNKRNALKVVRVV\\n',\n",
    " 'LPNLTEEQRNGYIASLKWNPSNSKNLLANAKKQNLHNALNVVRIV\\n',\n",
    " 'LPNLTETNRNGFILLLRLNPSRSKTILANAKKNNAHRARSVVLLV\\n',\n",
    " 'LPNLTEEQRNGHIASLKWNPSNSKTLLAQAKARNKRQALWVKLVV\\n',\n",
    " 'LPNLTEEQRNGWIALLRMNPSNSKNLLASAKLNNLQNASRVVLLV\\n',\n",
    " 'LPNLTEEARNGWIAMLKLSPSNSKKLLAAAKLQNLQNAARVVILV\\n',\n",
    " 'LPNLTEEARNGYIAMLKLNPSNSKKLLAAAKLRNLNQALNVVKSV\\n',\n",
    " 'LPNLTEEARNGWILLLKWTPSRSKDILAAAKARNLANALNVVRSV\\n',\n",
    " 'LPNLTEAQRNGWIALLKINPSRSKKLLAEAKKNNLNNAAQVVRTV\\n',\n",
    " 'LPNLTEEARNGWIILLKLNPSRSKKLLAAAKKNNKWNASKVVTSV\\n',\n",
    " 'LPNLTEEQRNGAILMLKLNPSNSKKLLINAKARNKRNALQVVKVV\\n',\n",
    " 'LPNLTEEARNGAIASLKLAPSNSKKLLAAAKKRNASNASKVVKVV\\n',\n",
    " 'LPNLTEAQRNGYIAMLRLSPSNSKKLLAAAKKNNIHNARNVVILV\\n',\n",
    " 'LPNLTEEQRNGAIISLKWNPSNSKTLLIQAKARNIRQALAVKLVV\\n',\n",
    " 'LPNLTEEQRNGWIAMLKLNPTRSKKLLAAAKKQNISNAAKVVILV\\n',\n",
    " 'LPNLSEAQRNGAILLLLLNPSNSKNILAMAKKNNKHNARAVSVTV\\n',\n",
    " 'LPNLTEEQRNGYIAMLRWSPSNSKTLLANAKLQNLSQAARVVILV\\n',\n",
    " 'LPNLTEEQRNGAIAMLKINPSNSKKLLAAAKKNNKQNASNVVTNV\\n',\n",
    " 'LPNLTEEARNGYIISLKMNPSNSKKLLIAAKLRNKRQAALVVLVV\\n',\n",
    " 'LPNLTEEQRNGAIQALKWIPSNSKTVLALAKLKNKAQAKWVKLVV\\n']"
   ]
  },
  {
   "cell_type": "code",
   "execution_count": 1,
   "metadata": {
    "collapsed": false
   },
   "outputs": [
    {
     "data": {
      "text/plain": [
       "{'A': 411,\n",
       " 'C': 0,\n",
       " 'D': 8,\n",
       " 'E': 132,\n",
       " 'F': 4,\n",
       " 'G': 75,\n",
       " 'H': 19,\n",
       " 'I': 167,\n",
       " 'K': 373,\n",
       " 'L': 517,\n",
       " 'M': 40,\n",
       " 'N': 451,\n",
       " 'P': 150,\n",
       " 'Q': 137,\n",
       " 'R': 212,\n",
       " 'S': 236,\n",
       " 'T': 114,\n",
       " 'V': 238,\n",
       " 'W': 73,\n",
       " 'Y': 18}"
      ]
     },
     "execution_count": 1,
     "metadata": {},
     "output_type": "execute_result"
    }
   ],
   "source": [
    "#take n.4 (not really...)\n",
    "matrix = {'A':0, 'R':0, 'N':0, 'D':0, 'C':0, 'Q':0, 'E':0, 'G':0, 'H':0, 'I':0, 'L':0, 'K':0, 'M':0, 'F':0, 'P':0, 'S':0, 'T':0, 'W':0, 'Y':0, 'V':0}\n",
    "the_file = open('n90.fasta')\n",
    "my_file = the_file.readlines()\n",
    "my_file\n",
    "\n",
    "for line in my_file:\n",
    "    for p in line.strip(): #gets rid of the \\n\n",
    "        #strip: Return a copy of the string with leading characters removed\n",
    "        matrix[p] = matrix.get(p,0) +1 #\n",
    "matrix"
   ]
  },
  {
   "cell_type": "code",
   "execution_count": 2,
   "metadata": {
    "collapsed": false
   },
   "outputs": [
    {
     "data": {
      "text/plain": [
       "238"
      ]
     },
     "execution_count": 2,
     "metadata": {},
     "output_type": "execute_result"
    }
   ],
   "source": [
    "matrix[p]"
   ]
  },
  {
   "cell_type": "code",
   "execution_count": 3,
   "metadata": {
    "collapsed": false
   },
   "outputs": [
    {
     "data": {
      "text/plain": [
       "'V'"
      ]
     },
     "execution_count": 3,
     "metadata": {},
     "output_type": "execute_result"
    }
   ],
   "source": [
    "p"
   ]
  },
  {
   "cell_type": "code",
   "execution_count": 4,
   "metadata": {
    "collapsed": false
   },
   "outputs": [
    {
     "data": {
      "text/plain": [
       "238"
      ]
     },
     "execution_count": 4,
     "metadata": {},
     "output_type": "execute_result"
    }
   ],
   "source": [
    "matrix.get(p,0)"
   ]
  },
  {
   "cell_type": "code",
   "execution_count": 5,
   "metadata": {
    "collapsed": false
   },
   "outputs": [
    {
     "data": {
      "text/plain": [
       "239"
      ]
     },
     "execution_count": 5,
     "metadata": {},
     "output_type": "execute_result"
    }
   ],
   "source": [
    "matrix.get(p,0) +1"
   ]
  },
  {
   "cell_type": "code",
   "execution_count": null,
   "metadata": {
    "collapsed": true
   },
   "outputs": [],
   "source": []
  },
  {
   "cell_type": "code",
   "execution_count": null,
   "metadata": {
    "collapsed": true
   },
   "outputs": [],
   "source": []
  },
  {
   "cell_type": "code",
   "execution_count": null,
   "metadata": {
    "collapsed": true
   },
   "outputs": [],
   "source": []
  },
  {
   "cell_type": "code",
   "execution_count": null,
   "metadata": {
    "collapsed": true
   },
   "outputs": [],
   "source": []
  },
  {
   "cell_type": "code",
   "execution_count": null,
   "metadata": {
    "collapsed": true
   },
   "outputs": [],
   "source": []
  },
  {
   "cell_type": "code",
   "execution_count": null,
   "metadata": {
    "collapsed": true
   },
   "outputs": [],
   "source": []
  },
  {
   "cell_type": "code",
   "execution_count": null,
   "metadata": {
    "collapsed": true
   },
   "outputs": [],
   "source": []
  },
  {
   "cell_type": "code",
   "execution_count": null,
   "metadata": {
    "collapsed": true
   },
   "outputs": [],
   "source": []
  }
 ],
 "metadata": {
  "kernelspec": {
   "display_name": "Python 3",
   "language": "python",
   "name": "python3"
  },
  "language_info": {
   "codemirror_mode": {
    "name": "ipython",
    "version": 3
   },
   "file_extension": ".py",
   "mimetype": "text/x-python",
   "name": "python",
   "nbconvert_exporter": "python",
   "pygments_lexer": "ipython3",
   "version": "3.6.0"
  }
 },
 "nbformat": 4,
 "nbformat_minor": 2
}
