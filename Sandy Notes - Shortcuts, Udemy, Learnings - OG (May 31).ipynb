{
 "cells": [
  {
   "cell_type": "code",
   "execution_count": null,
   "metadata": {
    "collapsed": true
   },
   "outputs": [],
   "source": [
    "#Open Libre Office\n",
    "libreoffice\n",
    "\n",
    "#You can do it by\n",
    "\n",
    "libreoffice --writer file.odt\n",
    "\n",
    "#file = name of the file\n",
    "#make sure you are in the right dir\n",
    "\n",
    "# If it is an odt file, you can open it just by\n",
    "\n",
    "libreoffice file.odt\n",
    "\n",
    "##Some file formats can be opened by different LO applications, then you need to specify which one to use."
   ]
  },
  {
   "cell_type": "code",
   "execution_count": null,
   "metadata": {
    "collapsed": true
   },
   "outputs": [],
   "source": [
    "#Open Google Chrome\n",
    "google-chrome"
   ]
  },
  {
   "cell_type": "code",
   "execution_count": null,
   "metadata": {
    "collapsed": true
   },
   "outputs": [],
   "source": [
    "###~ Download Sublime text\n",
    "\n",
    "# First one tried\n",
    "https://askubuntu.com/questions/172698/how-do-i-install-sublime-text-2-3\n",
    "## Did not work, so possibly try again later?\n",
    "\n",
    "# Try this one to see if it works?\n",
    "https://www.tecmint.com/install-sublime-text-editor-in-linux/\n",
    "\n",
    "## Maybe don't download yet \n"
   ]
  },
  {
   "cell_type": "code",
   "execution_count": null,
   "metadata": {
    "collapsed": true
   },
   "outputs": [],
   "source": [
    "# Open Jupyter Notebook\n",
    "jupyter notebook\n",
    "\n",
    "#make sure you run it from the proper directory because otherwise you won't find what you are looking for\n",
    "##??? It seems that as long as you are running from one place it will work in other place until you close it and have the link\n"
   ]
  },
  {
   "cell_type": "code",
   "execution_count": null,
   "metadata": {
    "collapsed": true
   },
   "outputs": [],
   "source": [
    "#Run Jupyter Notebook\n",
    "shift + enter #run the notebook document step-by-ste\n",
    "Cell -> Run All #run the whole notebook in a single step by clicking on the menu\n"
   ]
  },
  {
   "cell_type": "code",
   "execution_count": null,
   "metadata": {
    "collapsed": true
   },
   "outputs": [],
   "source": [
    "#mv FUNCTIONS\n",
    "\n",
    "#Moves the file myfile.txt to the directory destination-directory.\n",
    "mv myfile.txt destination-director\n",
    "\n",
    "#Attempts to move the file myfile.txt into the parent directory.\n",
    "mv myfile.txt ../\n",
    "\n",
    "#Attempts to move the file myfile.txt into the parent directory.\n",
    "mv computer\\ hope.txt computer\\ hope\\ 2.txt\n",
    "\n",
    "#Renames the file \"computer hope.txt\" to \"computer hope 2.txt\". \n",
    "#Here, the file names contain spaces, so the spaces are escaped with a backslash, \n",
    "#which protects the words in the file name from being interpreted as separate command arguments.\n",
    "\n",
    "#Tip: If you want to rename a set of files using a regular expression \n",
    "#(such as changing filename*.txt to othername*.txt), try the rename command.\n",
    "\n",
    "\n",
    "\n",
    "##RENAME\n",
    "# same thing, but make sure you don't forget to add the .ext to the new name"
   ]
  },
  {
   "cell_type": "code",
   "execution_count": null,
   "metadata": {
    "collapsed": true
   },
   "outputs": [],
   "source": [
    "#% All information is from this website; https://askubuntu.com/questions/642942/can-someone-give-me-a-rundown-of-the-cat-command-and-what-its-used-for%#\n",
    "#% didn't go through all of them\n",
    "\n",
    "#cat FUNCTIONS\n",
    "\n",
    "#Replace files #move the information from and put it into another file\n",
    "#if a doc with information it will all be replaced by the \"old file\"\n",
    "#and onto this \"new file\"\n",
    "cat oldfile.txt > newfile.txt\n",
    "\n",
    "\n",
    "#File Creation\n",
    "\n",
    "#For small files this is often easier than using vi, gedit or other text editors. \n",
    "#It is accomplished by typing cat followed by the output redirection operator and \n",
    "##the name of the file to be created, then pressing ENTER and finally simultaneously pressing the Ctrl & d keys.\n",
    "\n",
    "#For example, a new file named file1 can be created by typing\n",
    "\n",
    "cat > file1\n",
    "\n",
    "##file created is a text file\n",
    "#then press ENTER and simultaneously press the Ctrl & d keys.\n",
    "#PS1: If a file named file1 already exists, it will be overwritten\n",
    "#PS2: you can append to exited file using append operator >> example cat >> file1"
   ]
  },
  {
   "cell_type": "code",
   "execution_count": null,
   "metadata": {
    "collapsed": true
   },
   "outputs": [],
   "source": [
    "#file COMMAND\n",
    "#tell you what kind of file it is\n",
    "\n",
    "file name\n"
   ]
  },
  {
   "cell_type": "code",
   "execution_count": null,
   "metadata": {
    "collapsed": true
   },
   "outputs": [],
   "source": [
    "#find COMMAND\n",
    "\n",
    "find . -name filename.file_ext"
   ]
  },
  {
   "cell_type": "code",
   "execution_count": null,
   "metadata": {
    "collapsed": true
   },
   "outputs": [],
   "source": [
    "#ll COMMAND\n",
    "#alias for ls -artlh and ls -artl"
   ]
  },
  {
   "cell_type": "code",
   "execution_count": null,
   "metadata": {
    "collapsed": true
   },
   "outputs": [],
   "source": [
    "# Current Time\n",
    "uptime \n"
   ]
  },
  {
   "cell_type": "code",
   "execution_count": null,
   "metadata": {
    "collapsed": true
   },
   "outputs": [],
   "source": [
    "#Open a file\n",
    "See #give the path and then the document name with the extension!"
   ]
  },
  {
   "cell_type": "code",
   "execution_count": null,
   "metadata": {
    "collapsed": true
   },
   "outputs": [],
   "source": [
    "#Get the calendar\n",
    "cal"
   ]
  },
  {
   "cell_type": "code",
   "execution_count": null,
   "metadata": {
    "collapsed": true
   },
   "outputs": [],
   "source": [
    "#Show history of all commands\n",
    "history"
   ]
  },
  {
   "cell_type": "code",
   "execution_count": null,
   "metadata": {
    "collapsed": true
   },
   "outputs": [],
   "source": [
    "#Download Adobe Reader"
   ]
  },
  {
   "cell_type": "code",
   "execution_count": null,
   "metadata": {
    "collapsed": true
   },
   "outputs": [],
   "source": [
    "#Run Python\n",
    "python"
   ]
  },
  {
   "cell_type": "code",
   "execution_count": null,
   "metadata": {
    "collapsed": true
   },
   "outputs": [],
   "source": [
    "#Save as python code \n",
    "first_program.py #while running python\n",
    "# make sure to select all files\n",
    "# used a text editor (default one will work)"
   ]
  },
  {
   "cell_type": "code",
   "execution_count": null,
   "metadata": {
    "collapsed": true
   },
   "outputs": [],
   "source": [
    "#concatenate strings\n",
    "a = 'hello world'\n",
    "a = a + ' bandwagon' #don't forget space before word\n",
    "a"
   ]
  },
  {
   "cell_type": "code",
   "execution_count": null,
   "metadata": {
    "collapsed": true
   },
   "outputs": [],
   "source": [
    "#create repetition\n",
    "a*10"
   ]
  },
  {
   "cell_type": "code",
   "execution_count": null,
   "metadata": {
    "collapsed": true
   },
   "outputs": [],
   "source": [
    "print ('sandy ma \\n \\t ma sandy')"
   ]
  },
  {
   "cell_type": "code",
   "execution_count": null,
   "metadata": {
    "collapsed": true
   },
   "outputs": [],
   "source": [
    "s = 'hello world'"
   ]
  },
  {
   "cell_type": "code",
   "execution_count": null,
   "metadata": {
    "collapsed": true
   },
   "outputs": [],
   "source": [
    "s. #press tab to check out all the possible methods/options\n",
    "# once an option is chosen, you can press tab again and get information on how to use it\n",
    "# s.option *tab*"
   ]
  },
  {
   "cell_type": "code",
   "execution_count": null,
   "metadata": {
    "collapsed": true
   },
   "outputs": [],
   "source": [
    "#insert a string into another string\n",
    "x = 'String'\n",
    "\n",
    "print('Place my variable here: %s' %(x)) #s = string # x = variable\n",
    "#%s transforms it into a string and then places it inside that string\n",
    "#numbers will work b/c it is transformed into a string before it is inserted"
   ]
  },
  {
   "cell_type": "code",
   "execution_count": null,
   "metadata": {
    "collapsed": true
   },
   "outputs": [],
   "source": [
    "#insert a floating point number into another string\n",
    "print('Floating point number: %1.2f' %(13.145)) #f = floating point number\n",
    "#.2 = number of digits to show after dec. pt.\n",
    "#1. = number of digits to show before dec. pt. #1 = arbitrary,\n",
    "##the output seems  to be the same for 0"
   ]
  },
  {
   "cell_type": "code",
   "execution_count": null,
   "metadata": {
    "collapsed": true
   },
   "outputs": [],
   "source": [
    "#convert into a string w/ str() function\n",
    "print ('Converted this to a string %s' %(123)"
   ]
  },
  {
   "cell_type": "code",
   "execution_count": null,
   "metadata": {
    "collapsed": true
   },
   "outputs": [],
   "source": [
    "#convert into a string w/ repr() function\n",
    "print ('Converted this to a string %r' %(123))"
   ]
  },
  {
   "cell_type": "code",
   "execution_count": null,
   "metadata": {
    "collapsed": true
   },
   "outputs": [],
   "source": [
    "#Q: want more than one variable into a string\n",
    "#A: use multiple % signs\n",
    "x = 3\n",
    "print ('First: %s, Second: %s, Third: %s' %(1,'hi',x)) # can takes it all in order \n",
    "#make sure hi has its single quotation marks\n",
    "##classic method, but not best way --> string method"
   ]
  },
  {
   "cell_type": "code",
   "execution_count": null,
   "metadata": {
    "collapsed": true
   },
   "outputs": [],
   "source": [
    "#string method using string.format\n",
    "print ('First: %s, Second: %s' %(2,2)) #need to do it twice (i.e. could have mistakes, etc.)\n",
    "print ('First: {x} Second: {x}'.format(x='inserted')) #only need to print variable once for it\n",
    "#to get inserted twice #{x} = variable x here \n",
    "#this syntax is powerful esp. if you want to mess around w/ the order\n",
    "print ('First: {x} Second :{y} Third: {x}'.format(x='inserted', y='two!'))\n",
    "#don't need to care aboout the right order and only really care about having the right order\n",
    "#pythonicway\n",
    "\n",
    "#format = 'String here {var1} then also {var2}'.format(var1='something1',var2='something2') \n",
    "\n",
    "#Sandy's example and practice\n",
    "print ('Sandy has {a} and {b} with {c};Sandy also wants {c},{c},and{c}'.format(a='6carrots', b='7bananas',c='coke'))"
   ]
  },
  {
   "cell_type": "code",
   "execution_count": null,
   "metadata": {
    "collapsed": true
   },
   "outputs": [],
   "source": [
    "my_list = [1,2,3,4,5,6,7,8] #make a list and give it a variable = my_list\n",
    "other_list = ['string',1.23,4] #can hold different object types\n",
    "my_list[1:] #list everything after index 1\n",
    "my_list[:3] #list everything up to index 3 (not inclusive)\n",
    "my_list + ['new item'] #concatenate list NB does not change original list\n",
    "#test NB and will return my_list without the additional concatenated s'q\n",
    "#reassign to make this permanent!\n",
    "\n",
    "#make the list double\n",
    "my_list * 2 #NOT permanent!\n",
    "\n",
    "#Add permanently to list\n",
    "l = [1,2,3] #define\n",
    "l.append('add me') #append\n",
    "l #show\n",
    "\n",
    "#pop to isolate ('pop off') an item from the list (def: LAST INDEX (i.e. -1), but can \n",
    "##be specified)\n",
    "l.pop() #removes the last from l = [1,2,3, 'add me] --> PERMANENT\n",
    "#Result: l = [1,2,3]\n",
    "l.pop(0) #removes index 0 = 1 --> PERMANENT\n",
    "#assign the poped number\n",
    "popped_item = l.pop() #from the remaining list, not the OG; follow script!\n"
   ]
  },
  {
   "cell_type": "code",
   "execution_count": null,
   "metadata": {
    "collapsed": true
   },
   "outputs": [],
   "source": [
    "#reverse list\n",
    "new_list = ['s','a','n','d','y'] #define list\n",
    "new_list.reverse() #reverse f'n\n",
    "new_list #show --> PERMANENT\n",
    "\n",
    "#sort list: Use sort to sort the list\n",
    "##in this case alphabetical order, but for numbers it will go in ASCEDNING order\n",
    "new_list.sort() #sort f'n\n",
    "new_list #show --> PERMANENT"
   ]
  },
  {
   "cell_type": "code",
   "execution_count": null,
   "metadata": {
    "collapsed": true
   },
   "outputs": [],
   "source": [
    "#nesting lists --> one of the great things of python data structure nesting\n",
    "##i.e. data structure-ception: data structures within data structures\n",
    "###e.g. a list inside a list\n",
    "\n",
    "#Making three lists \n",
    "lst_1=[1,2,3]\n",
    "lst_2=[4,5,6]\n",
    "lst_3=[7,8,9]\n",
    "matrix = [lst_1, lst_2, lst_3] #nested list\n",
    "matrix #show\n",
    "\n",
    "#grab first item in matrix object\n",
    "matrix[0] #give you first list\n",
    "#grab first item of the first item in the matrix object\n",
    "matrix [0][0]\n",
    "#there are two levels (two levels: which list and what position in list) for the index,\n",
    "##requires more information #reads: 'index the first number from the first list'\n"
   ]
  },
  {
   "cell_type": "code",
   "execution_count": null,
   "metadata": {
    "collapsed": true
   },
   "outputs": [],
   "source": [
    "#add a line shortcut#click b to get a new line in jupyter notebook"
   ]
  },
  {
   "cell_type": "code",
   "execution_count": null,
   "metadata": {
    "collapsed": true
   },
   "outputs": [],
   "source": [
    "# List comprehensions: allows for quick construction of lists (an advanced python feature)\n",
    "##must comprehend for loops (yay, review!)\n",
    "\n",
    "# Build a list comprehension by deconstructing a for loop within a []\n",
    "##Remember that matrix = [[1, 2, 3], [4, 5, 6], [7, 8, 9]]\n",
    "first_col = [row[0] for row in matrix] #take index1 of ea. list and put it in a for loop\n",
    "##row = a variable for the index (i.e. 0 in this case; aka first element of the matrix) \n",
    "###for = for loop f'n\n",
    "####in = gives info as to which matrix to index (i.e. matrix in thise case)  \n",
    "first_col #shows the first column of your matrix!\n",
    "\n",
    "\n",
    "#for every element in row, grab the zero index in the matrix, matrix\n",
    "\n",
    "#another example made by your own and only --> does the same thing, but w/ diff variables!\n",
    "lst_1=[11,12,13]\n",
    "lst_2=[14,15,16]\n",
    "lst_3=[17,18,19]\n",
    "matrixx2 = [lst_1, lst_2, lst_3] #nested list\n",
    "matrixx2 #show\n",
    "first_col2 = [test[1] for test in matrixx2]\n",
    "first_col2 #show"
   ]
  },
  {
   "cell_type": "code",
   "execution_count": null,
   "metadata": {
    "collapsed": true
   },
   "outputs": [],
   "source": [
    "# Make a dictionary with {} and : to signify a key and a value\n",
    "my_dict = {'key1':123,'key2':[12,23,33],'key3':['item0','item1','item2']}\n",
    "my_dict['key2'] #call item = key2 from dictionary\n",
    "my_dict['key3'][0] #index 1 of the value denoted by variable key3\n",
    "my_dict['key3'][0].upper() #can call methods of a certain value as well!\n",
    "my_dict['key1'] - 123 #values can be effected --> NOT PERMANENT\n",
    "my_dict['key1'] = my_dict['key1'] - 123\n",
    "    #another way to write this is with += or -= (this denotes self addition and subtraction,r)\n",
    "        #this can also be applied to division and multiplication\n",
    "    my_dict['key1'] -= 123 #instead of reassigning it #this is used very often!\n",
    "        #the arithmetic is BEFORE the equal sign\n",
    "my_dict['key1'] = my_dict['key1'] - 123 #effected values need to be reassigned to be PERMANENT\n",
    "my_dict['key1'] #check"
   ]
  },
  {
   "cell_type": "code",
   "execution_count": null,
   "metadata": {
    "collapsed": true
   },
   "outputs": [],
   "source": [
    "##CREATE NEW KEY THROUGH ASSIGNMENT\n",
    "\n",
    "# Create new dictionary\n",
    "d = {} #USE CURLY BRACKETS\n",
    "# Create a new key through assignment\n",
    "d['animal'] = 'Dog' \n",
    "d['answer'] = 42\n",
    "d #show #{'animal': 'Dog', 'answer': 42}"
   ]
  },
  {
   "cell_type": "code",
   "execution_count": null,
   "metadata": {
    "collapsed": true
   },
   "outputs": [],
   "source": [
    "##NESTING W/ DICTIONARIES\n",
    "\n",
    "d = {'key1':{'nestkey':{'subnestkey':'value'}}}\n",
    "#grab the value\n",
    "d['key1'][0] #will give you an ERROR CODE because [0] is another key and not a string or no.\n",
    "d['key1']['nestkey']['subnestkey']"
   ]
  },
  {
   "cell_type": "code",
   "execution_count": null,
   "metadata": {
    "collapsed": true
   },
   "outputs": [],
   "source": [
    "##A FEW DICTIONARY METHODS\n",
    "\n",
    "#create a typical dictionary \n",
    "d = {'key1':1,'key2':2,'key3':3}\n",
    "#method to return a list of all keys\n",
    "d.keys() #['key3', 'key2', 'key1'] -->--> ## WHAT I GET IS: dict_keys(['key1', 'key2', 'key3'])\n",
    "#method to grab all values\n",
    "d.values() #[3, 2, 1] \n",
    "#--> --> dict_values([1, 2, 3]) \n",
    "#method to return tuples of all items\n",
    "d.items() #[('key3', 3), ('key2', 2), ('key1', 1)]\n",
    "#--> --> dict_items([('key1', 1), ('key2', 2), ('key3', 3)])"
   ]
  },
  {
   "cell_type": "code",
   "execution_count": null,
   "metadata": {
    "collapsed": true
   },
   "outputs": [],
   "source": [
    "#CONSTRUCTING TUPLES\n",
    "\n",
    "#Create tuple w/ mixed types\n",
    "t = ('one',2,3)\n",
    "t[0]#index tuple\n",
    "t[-1]#slice tuple\n",
    "    #3\n",
    "    \n",
    "#difference between tuples (round brackets) of lists (square brackets)#"
   ]
  },
  {
   "cell_type": "code",
   "execution_count": null,
   "metadata": {
    "collapsed": true
   },
   "outputs": [],
   "source": [
    "# BASIC TUPLE METHODS\n",
    "\n",
    "# Use .index to enter a value and return the index\n",
    "t.index('one')\n",
    "    #0\n",
    "# Use .count to count the number of times a value appears\n",
    "t.count('one')\n",
    "    #1\n",
    "\n",
    "    #THESE ARE BASICALLY THE ONLY TWO METHODS THAT CAN BE USED!"
   ]
  },
  {
   "cell_type": "code",
   "execution_count": null,
   "metadata": {
    "collapsed": true
   },
   "outputs": [],
   "source": [
    "# IMMUTABILITY\n",
    "t[0]= 'change' #reassign position one of tuple\n",
    "    #error msg\n",
    "t.append('nope')\n",
    "    #error msg\n",
    "\n",
    "#Try these in lists and see how it happens"
   ]
  },
  {
   "cell_type": "code",
   "execution_count": null,
   "metadata": {
    "collapsed": true
   },
   "outputs": [],
   "source": [
    "#Create new text file\n",
    "cat > filename.txt\n",
    "# Doing so will create a new text file with the specified name in your cd\n",
    "# Your cursor will appear on a blank line in Terminal\n",
    "Ctrl + Z #save work and return to Terminal \n",
    "#Type the command to locate your file \n",
    "ls -l kitty.txt"
   ]
  },
  {
   "cell_type": "markdown",
   "metadata": {
    "collapsed": true
   },
   "source": [
    "# Reading and Writing Files in Python"
   ]
  },
  {
   "cell_type": "markdown",
   "metadata": {},
   "source": [
    "Link: http://www.pythonforbeginners.com/files/reading-and-writing-files-in-python"
   ]
  },
  {
   "cell_type": "code",
   "execution_count": null,
   "metadata": {
    "collapsed": true
   },
   "outputs": [],
   "source": [
    "#OPEN ()FUNCTION\n",
    "open ()\n",
    "#Syntax\n",
    "file_object = open (\"filename\", \"mode\")\n",
    "\n",
    "#file_object variable to file object\n",
    "#mode is the 2nd argument\n",
    "\n",
    "#EXAMPLE\n",
    "file = open(\"testfile.txt\",\"w\") \n",
    " \n",
    "file.write(\"Hello World\") \n",
    "file.write(\"This is our new text file\") \n",
    "file.write(\"and this is another line.\") \n",
    "file.write(\"Why? Because we can.\") \n",
    " \n",
    "file.close() "
   ]
  },
  {
   "cell_type": "code",
   "execution_count": null,
   "metadata": {
    "collapsed": true
   },
   "outputs": [],
   "source": [
    "#WRITE WITH NEW LINES\n",
    "file = open(\"testfile.txt\",\"w\") \n",
    " \n",
    "file.write(\"Hello World \\n\") \n",
    "file.write(\"This is our new text file\\n\") \n",
    "file.write(\"and this is another line.\\n\") \n",
    "file.write(\"Why? Because we can.\") \n",
    " \n",
    "file.close() "
   ]
  },
  {
   "cell_type": "code",
   "execution_count": null,
   "metadata": {
    "collapsed": true
   },
   "outputs": [],
   "source": [
    "#OPEN file\n",
    "! cat testfile.txt \n",
    "\n",
    "#OUTPUT\n",
    "#Hello World \n",
    "#This is our new text file \n",
    "#and this is another line. \n",
    "#Why? Because we can."
   ]
  },
  {
   "cell_type": "code",
   "execution_count": 2,
   "metadata": {
    "collapsed": false
   },
   "outputs": [
    {
     "name": "stdout",
     "output_type": "stream",
     "text": [
      "Hello, World! Anyone out there?This requires way too many copys and pastes to write, porqueI guess I will close it all, bc this takes too much  time.Ain't nobody got time for this!"
     ]
    }
   ],
   "source": [
    "!cat testfile.txt #works #yay"
   ]
  },
  {
   "cell_type": "code",
   "execution_count": null,
   "metadata": {
    "collapsed": true
   },
   "outputs": [],
   "source": [
    "#LESS FUNCTION\n",
    "less (filename) "
   ]
  },
  {
   "cell_type": "code",
   "execution_count": 4,
   "metadata": {
    "collapsed": false
   },
   "outputs": [
    {
     "name": "stdout",
     "output_type": "stream",
     "text": [
      "Hello, World! Anyone out there?This requires way too many copys and pastes to wr\r\n",
      "ite, porqueI guess I will close it all, bc this takes too much  time.Ain't nobod\r\n",
      "y got time for this!\r\n"
     ]
    }
   ],
   "source": [
    "#MORE FUNCTION\n",
    "more (filename)\n",
    "\n",
    "#can be used to narrow down a certain file. EG. multiple files that start w/ test\n",
    "##use more and then it will list those and then you can narrow it down\n",
    "##then it will show parts of the file\n",
    "\n",
    "!more testfile.txt #works #yay"
   ]
  },
  {
   "cell_type": "code",
   "execution_count": 10,
   "metadata": {
    "collapsed": false,
    "scrolled": true
   },
   "outputs": [
    {
     "name": "stdout",
     "output_type": "stream",
     "text": [
      "\n",
      "\n",
      "\n",
      "\n",
      "[]\n"
     ]
    }
   ],
   "source": [
    "#READ TEXT FILE IN PYTHON\n",
    "file = open(\"testfile.txt\", \"r\") \n",
    "print (file.read())\n",
    "\n",
    "#Only the fist 5 characters\n",
    "file = open(\"testfile.txt\", \"r\")\n",
    "print (file.read(5))\n",
    "\n",
    "#Read line by line\n",
    "file = open(\"testfile.txt\", \"r\") \n",
    "print (file.readline())\n",
    "#Return: the first line of the file\n",
    "\n",
    "#Read the 3rd line -------------------------------> has not worked #it does the same thing as read\n",
    "#Works if you type #this repeatedly! -------------> not realistic\n",
    "file = open(\"testfile.txt\", \"r\") \n",
    "print (file.readline(3)) #this\n",
    "\n",
    "#Read every line properly separated --------------> but the \\n show up! ---> what to do?\n",
    "file = open(\"testfile.txt\", \"r\") \n",
    "print (file.readlines())\n",
    "#Output; [‘Hello World’, ‘This is our new text file’, ‘and this is another line.’, \n",
    "##‘Why? Because we can.’] \n"
   ]
  },
  {
   "cell_type": "code",
   "execution_count": 28,
   "metadata": {
    "collapsed": true
   },
   "outputs": [],
   "source": [
    "f = open(\"testfile.txt\", \"r\") "
   ]
  },
  {
   "cell_type": "code",
   "execution_count": null,
   "metadata": {
    "collapsed": true
   },
   "outputs": [],
   "source": [
    "f.readline()"
   ]
  },
  {
   "cell_type": "code",
   "execution_count": null,
   "metadata": {
    "collapsed": true
   },
   "outputs": [],
   "source": [
    "#THE PROBLEM\n",
    "#this\n",
    "file = open(\"letest.txt\",\"w\")\n",
    "file.write(\"Hello World\")\n",
    "#Out[10]: 11 ------------------> this doesn't happen when you run it from a script or from c/p\n",
    "file.write(\"Bye World\")\n",
    "#is giving me the same as this\n",
    "file = open(\"letest.txt\",\"w\")\n",
    "file.write(\"HelloWorldBye World\")\n",
    "#sameoutput: Hello WorldBye World\n",
    "#This is causing all the other functions not to work bc THERE ARE NO LINES TO INDEX!"
   ]
  },
  {
   "cell_type": "code",
   "execution_count": null,
   "metadata": {
    "collapsed": true
   },
   "outputs": [],
   "source": [
    "#Looping over a file object\n",
    "file = open(\"testfile.txt\", \"r\") \n",
    "for line in file:\n",
    "    print (line) #need indent\n",
    "#Return:with open(newfile, 'w') as outfile, open(oldfile, 'r', encoding='utf-8') as infile:\n",
    "#Hello World \n",
    "#This is our new text file \n",
    "#and this is another line. \n",
    "#Why? Because we can."
   ]
  },
  {
   "cell_type": "code",
   "execution_count": null,
   "metadata": {
    "collapsed": true
   },
   "outputs": [],
   "source": [
    "#Closing a File\n",
    "file.close()"
   ]
  },
  {
   "cell_type": "code",
   "execution_count": null,
   "metadata": {
    "collapsed": true
   },
   "outputs": [],
   "source": [
    "#File Handling in the Real World\n",
    "\n",
    "#Opening a text file:\n",
    "fh = open(\"hello.txt\", \"r\")\n",
    "#Reading a text file:\n",
    "fh = open(\"hello.txt\",\"r\")\n",
    "print(fh.read())\n",
    "#To read a text file one line at a time\n",
    "fh = open(\"hello.txt\",\"r\")\n",
    "print(fh.readline())\n",
    "#To read a list of lines in a text file\n",
    "fh = open(\"hello.txt\",\"r\")\n",
    "print(fh.readlines())\n",
    "#To write new content or text to a file\n",
    "fh = open(\"hello.txt\",\"w\")\n",
    "fh.write(\"Put the text you want to add here\")\n",
    "fh.write(\"and more lines if need be.\")\n",
    "fh.close()\n",
    "#You can also use this to write multiple lines to a file at once: \n",
    "fh = open(\"hello.txt\",\"w\")\n",
    "lines_of_text = [\"One line of text here\\n\", \"and another line here\\n\", \"and yet anothre here\\n\"]\n",
    "fh.writelines(lines_of_text)\n",
    "fh.close()\n",
    "#To append a file #add to the end of what you have!\n",
    "fh = open(\"hello.txt\",\"a\")\n",
    "fh.write(\"We Meet Again World\")\n",
    "fh.close()\n",
    "#To close a file completely when you are done: \n",
    "fh = open(\"hello.txt\",\"r\")\n",
    "print(fh.read())\n",
    "fh.close()"
   ]
  },
  {
   "cell_type": "code",
   "execution_count": null,
   "metadata": {
    "collapsed": true
   },
   "outputs": [],
   "source": [
    "#WITH STATEMENT -------------------------------------> What was the use?!\n",
    "with open(\"testfile.txt\") as file:\n",
    "    data = file.read()\n",
    "    #do something with data -------------------------> unsure what this was written for\n",
    "    #------------------------------------------------> what can you do w/ data?\n",
    "    \n",
    "#Combine w/ for loop\n",
    "with open(\"testfile.txt\") as f:\n",
    "    for line in f:\n",
    "        print (line), # -----------------------------> why comma?\n",
    "        \n",
    "#Can use with for multiple open statements, separated by a  comma\n",
    "    #Example:\n",
    "        with open(newfile, 'w') as outfile, open(oldfile, 'r') as infile: #write other stuff"
   ]
  },
  {
   "cell_type": "code",
   "execution_count": null,
   "metadata": {
    "collapsed": true
   },
   "outputs": [],
   "source": [
    "#USE WITH STATEMENT IN THE REAL WORLD\n",
    "#To write to a file using the with statement\n",
    "with open (\"hello.txt\",\"w\") as f:\n",
    "    f.write (\"Hello World\")\n",
    "    f.write(\"second line\")\n",
    "    f.write(\"third line\")\n",
    "    f.write(\"fourth line\")\n",
    "    f.write(\"fifth line\")\n",
    "#To read a file line by line, output into a list\n",
    "with open(\"hello.txt\") as f:\n",
    "    data=f.readlines() #-------------------------------------> did not work!\n",
    "#This will take all of the text or content from the “hello.txt” \n",
    "##file and store it into a string called “data”\n",
    "\n",
    "with open(\"hello.txt\") as f:\n",
    "    for line in f:\n",
    "        print(line),"
   ]
  },
  {
   "cell_type": "code",
   "execution_count": 25,
   "metadata": {
    "collapsed": true
   },
   "outputs": [],
   "source": [
    "with open(\"hello.txt\") as f:\n",
    "    data=f.readlines()"
   ]
  },
  {
   "cell_type": "code",
   "execution_count": 27,
   "metadata": {
    "collapsed": false
   },
   "outputs": [
    {
     "name": "stdout",
     "output_type": "stream",
     "text": [
      "Hello Worldsecond linethird linefourth linefifth line\r\n"
     ]
    }
   ],
   "source": [
    "!more hello.txt"
   ]
  },
  {
   "cell_type": "code",
   "execution_count": 23,
   "metadata": {
    "collapsed": true
   },
   "outputs": [],
   "source": [
    "a = open(\"hello.txt\")"
   ]
  },
  {
   "cell_type": "code",
   "execution_count": 22,
   "metadata": {
    "collapsed": false
   },
   "outputs": [
    {
     "name": "stdout",
     "output_type": "stream",
     "text": [
      "Hello Worldsecond linethird linefourth linefifth line\n"
     ]
    }
   ],
   "source": [
    "with open(\"hello.txt\") as f:\n",
    "    #print(type(f))\n",
    "    print(f.readline())"
   ]
  },
  {
   "cell_type": "code",
   "execution_count": 24,
   "metadata": {
    "collapsed": false
   },
   "outputs": [
    {
     "data": {
      "text/plain": [
       "'Hello Worldsecond linethird linefourth linefifth line'"
      ]
     },
     "execution_count": 24,
     "metadata": {},
     "output_type": "execute_result"
    }
   ],
   "source": [
    "a.read()"
   ]
  },
  {
   "cell_type": "code",
   "execution_count": null,
   "metadata": {
    "collapsed": true
   },
   "outputs": [],
   "source": [
    "#Splitting Lines in a Text File\n",
    "\n",
    "#use .split\n",
    "with open (\"hello.txt\",\"r\") as f:\n",
    "    data=f.readlines()\n",
    "    \n",
    "for line in data:\n",
    "    words=line.split()\n",
    "    print(words) #--------------------------------------------> gives this\n",
    "          #Output ['Hello', 'Worldsecond', 'linethird', 'linefourth', 'linefifth', 'line']\n",
    "    \n",
    "#use colon\n",
    "with open (\"hello.txt\",\"r\") as f:\n",
    "    data=f.readlines()\n",
    "    \n",
    "for line in data:\n",
    "    words=line.split(\":\")\n",
    "    print(words) #--------------------------------------------> gives this\n",
    "        #Output ['Hello Worldsecond linethird linefourth linefifth line']\n",
    "\n",
    "#--------------------------------------------> WHY DON'T THEY WORK?!"
   ]
  },
  {
   "cell_type": "code",
   "execution_count": null,
   "metadata": {
    "collapsed": true
   },
   "outputs": [],
   "source": [
    "#For Loop: https://wiki.python.org/moin/ForLoop\n",
    "#For loop from 0 to 2, therefore running 3 times.\n",
    "for x in range(0, 3):\n",
    "    print \"We're on time %d\" % (x)\n",
    "\n",
    "#While loop from 1 to infinity, therefore running forever.\n",
    "x = 1\n",
    "while True:\n",
    "    print \"To infinity and beyond! We're getting close, on %d now!\" % (x)\n",
    "    x += 1\n",
    "###WATCH OUT!"
   ]
  },
  {
   "cell_type": "code",
   "execution_count": null,
   "metadata": {
    "collapsed": true
   },
   "outputs": [],
   "source": [
    "#Mouse Restart\n",
    "sudo rmmod psmouse\n",
    "sudo modprobe psmouse\n",
    "\n",
    "##If there is no terminal window open, you can use one of the following:\n",
    "\n",
    "#In Gnome or KDE\n",
    "## press Alt + F2, type gnome-terminal and press Enter\n",
    "## Press Control + Alt + F1\n",
    "## login with your username and password, type the command\n",
    "## then press Control + Alt + F7 to get back to X"
   ]
  },
  {
   "cell_type": "code",
   "execution_count": 32,
   "metadata": {
    "collapsed": false
   },
   "outputs": [
    {
     "name": "stdout",
     "output_type": "stream",
     "text": [
      "\n",
      "\n",
      "0\n",
      "1\n",
      "2\n",
      "\n",
      "\n",
      "0 1 2 "
     ]
    }
   ],
   "source": [
    "#Difference in way it is printed; can be vertical and not only horizontal\n",
    "print(\"\\n\")\n",
    "for x in range(3):\n",
    "    print(x)\n",
    "print(\"\\n\")\n",
    "for x in range(3):\n",
    "    print(x, end=' ')\n"
   ]
  },
  {
   "cell_type": "code",
   "execution_count": null,
   "metadata": {
    "collapsed": true
   },
   "outputs": [],
   "source": [
    "#Examples of using python and arrays?\n",
    "a = '0123456789'\n",
    "a[3]\n",
    "a[1]\n",
    "\n",
    "b = 'abcdf'\n",
    "b[0]\n",
    "\n",
    "c = [[1,2],[2,3]]\n",
    "c\n",
    "c[0][0]\n"
   ]
  },
  {
   "cell_type": "code",
   "execution_count": null,
   "metadata": {
    "collapsed": true
   },
   "outputs": [],
   "source": [
    "#Introduction to numpy\n",
    "import numpy\n",
    "import numpy as np #--------------------------> why need that?\n",
    "\n",
    "#An empty np with size of the numbers in the brackets\n",
    "d = np.empty((2,3,4))\n",
    "e = np.zeros((2,3,4))\n",
    "e [0][2]\n",
    "#size(number of matrices, length, width)\n",
    "#Brackets 1 for all matrices\n",
    "#Brackets 2 for an individual matrix\n",
    "#Brackets 3 for an array\n",
    "a.T #transpose\n",
    "a.mean() #mean\n",
    "a.std()"
   ]
  },
  {
   "cell_type": "code",
   "execution_count": null,
   "metadata": {
    "collapsed": true
   },
   "outputs": [],
   "source": [
    "#Python tricks\n",
    "\n",
    "#Cannot assign False = 0\n",
    "#Will give you an error code = cannot assign keyword\n",
    "False = 0\n",
    "\n",
    "#Example\n",
    "sum([1,3,4,5])\n",
    "sum = 6 #won't work"
   ]
  },
  {
   "cell_type": "code",
   "execution_count": 34,
   "metadata": {
    "collapsed": false
   },
   "outputs": [
    {
     "name": "stdout",
     "output_type": "stream",
     "text": [
      "Please enter an integer: 0\n",
      "Zero\n"
     ]
    }
   ],
   "source": [
    "#If Statements\n",
    "x = int(input(\"Please enter an integer: \"))\n",
    "if x < 0:\n",
    "    x = 0\n",
    "    print('Negative changed to zero')\n",
    "elif x == 0:\n",
    "    print('Zero')\n",
    "elif x == 1:\n",
    "    print('Single')\n",
    "else:\n",
    "     print('More')"
   ]
  },
  {
   "cell_type": "code",
   "execution_count": null,
   "metadata": {
    "collapsed": true
   },
   "outputs": [],
   "source": [
    "#input()\n",
    "s = input('The thing you wanna say:')\n",
    "#Show\n",
    "s"
   ]
  },
  {
   "cell_type": "code",
   "execution_count": null,
   "metadata": {
    "collapsed": true
   },
   "outputs": [],
   "source": []
  },
  {
   "cell_type": "markdown",
   "metadata": {
    "collapsed": true
   },
   "source": [
    "# Python Functions\n",
    "Link: https://www.tutorialspoint.com/python/python_functions.htm"
   ]
  },
  {
   "cell_type": "markdown",
   "metadata": {
    "collapsed": true
   },
   "source": [
    "**function**: a block of organized, reusable code that is used to perform a single, related action.\n",
    "- Functions provide better modularity for your application and a high degree of code reusing.\n",
    "- Python gives you many built-in functions like print(), etc. but you can also create your own functions. These functions are called user-defined functions.\n",
    "\n",
    "### Defining a Function\n",
    "1) Function blocks begin with the keyword def followed by the **function name** and parentheses\n",
    "2) Any input parameters or arguments should be placed within these parentheses\n",
    "- You can also define parameters inside these parentheses.\n",
    "\n",
    "3) The first statement of a function can be an optional statement - the documentation string of the function (ie. docstring)\n",
    "\n",
    "4) The code block within every function starts with a colon (:) and is indented.\n",
    "\n",
    "5) The statement return [expression] exits a function, optionally passing back an expression to the caller\n",
    "- A return statement with no arguments is the same as return No"
   ]
  },
  {
   "cell_type": "markdown",
   "metadata": {
    "collapsed": true
   },
   "source": [
    "### Syntax"
   ]
  },
  {
   "cell_type": "code",
   "execution_count": null,
   "metadata": {
    "collapsed": true
   },
   "outputs": [],
   "source": [
    "def fn_name( parameters ): #--------------------------------> What are parameters?\n",
    "   '''\n",
    "   function_docstring\n",
    "   '''\n",
    "   function_suite\n",
    "   return [expression]"
   ]
  },
  {
   "cell_type": "markdown",
   "metadata": {
    "collapsed": true
   },
   "source": [
    "By default, parameters have a positional behavior\n",
    "- you need to inform them in the same order that they were defined."
   ]
  },
  {
   "cell_type": "markdown",
   "metadata": {
    "collapsed": true
   },
   "source": [
    "### Example\n",
    "The following function takes a string as input parameter and prints it on standard screen."
   ]
  },
  {
   "cell_type": "code",
   "execution_count": 5,
   "metadata": {
    "collapsed": false
   },
   "outputs": [
    {
     "data": {
      "text/plain": [
       "str"
      ]
     },
     "execution_count": 5,
     "metadata": {},
     "output_type": "execute_result"
    }
   ],
   "source": [
    "def printme(str):\n",
    "    '''This prints a passed string into this function'''\n",
    "    print (str)\n",
    "    return\n",
    "str\n",
    "\n",
    "#-----------------------------------------------------> WHAT DID IT DO?"
   ]
  },
  {
   "cell_type": "code",
   "execution_count": 4,
   "metadata": {
    "collapsed": false
   },
   "outputs": [
    {
     "ename": "NameError",
     "evalue": "name 'man' is not defined",
     "output_type": "error",
     "traceback": [
      "\u001b[0;31m---------------------------------------------------------------------------\u001b[0m",
      "\u001b[0;31mNameError\u001b[0m                                 Traceback (most recent call last)",
      "\u001b[0;32m<ipython-input-4-2e92927443c9>\u001b[0m in \u001b[0;36m<module>\u001b[0;34m()\u001b[0m\n\u001b[1;32m      4\u001b[0m     \u001b[0;32mreturn\u001b[0m\u001b[0;34m\u001b[0m\u001b[0m\n\u001b[1;32m      5\u001b[0m \u001b[0;31m# ------\u001b[0m\u001b[0;34m\u001b[0m\u001b[0;34m\u001b[0m\u001b[0m\n\u001b[0;32m----> 6\u001b[0;31m \u001b[0mman\u001b[0m\u001b[0;34m\u001b[0m\u001b[0m\n\u001b[0m",
      "\u001b[0;31mNameError\u001b[0m: name 'man' is not defined"
     ]
    }
   ],
   "source": [
    "def printme(man):\n",
    "    '''This prints a passed string into this function'''\n",
    "    print (man)\n",
    "    return\n",
    "man\n",
    "# ---------------------------------------------------> WHY DIDN'T IT WORK?"
   ]
  },
  {
   "cell_type": "markdown",
   "metadata": {
    "collapsed": true
   },
   "source": [
    "### Calling a Function\n",
    "Defining a function only gives it a name, specifies the parameters that are to be included in the function and structures the blocks of code.\n",
    "- Once the basic structure of a function is finalized, you can execute it by calling it from another function or directly from the Python prompt.\n",
    "\n",
    "Following is the example to call printme() function −"
   ]
  },
  {
   "cell_type": "code",
   "execution_count": 7,
   "metadata": {
    "collapsed": false
   },
   "outputs": [
    {
     "name": "stdout",
     "output_type": "stream",
     "text": [
      "I'm first going to call user define function!\n",
      "Again second call to the same function\n"
     ]
    }
   ],
   "source": [
    "# Define function here\n",
    "def printme(str):\n",
    "    '''This prints a passed string into this function '''\n",
    "    print (str)\n",
    "    return\n",
    "\n",
    "# Call printme function\n",
    "printme(\"I'm first going to call user define function!\")\n",
    "printme(\"Again second call to the same function\")"
   ]
  },
  {
   "cell_type": "markdown",
   "metadata": {},
   "source": [
    "#### Sandy Thoughts\n",
    "Basically:\n",
    "- def is to define a function\n",
    "- to use the function you use it by its name (e.g. fn_name(set up some stuff here))\n",
    "- use: fn_name (do what you want to do)"
   ]
  },
  {
   "cell_type": "markdown",
   "metadata": {
    "collapsed": true
   },
   "source": [
    "### Pass by reference vs value\n",
    "All parameters (arguments) in the Python language are passed by reference\n",
    "- It means if you change what a parameter refers to within a function, the change also reflects back in the calling function\n",
    "\n",
    "For Example:"
   ]
  },
  {
   "cell_type": "code",
   "execution_count": 16,
   "metadata": {
    "collapsed": false
   },
   "outputs": [
    {
     "name": "stdout",
     "output_type": "stream",
     "text": [
      "Values inside the function:\n",
      "Values outside the function:\n"
     ]
    },
    {
     "data": {
      "text/plain": [
       "(None, [10, 20, 30, [1, 2, 3, 4]])"
      ]
     },
     "execution_count": 16,
     "metadata": {},
     "output_type": "execute_result"
    }
   ],
   "source": [
    "# Define function is still here\n",
    "def changeme(mylist):\n",
    "    '''This changed a passed list into this function '''\n",
    "    mylist.append([1,2,3,4]);\n",
    "    print (\"Values inside the function:\"), mylist\n",
    "    return\n",
    "mylist\n",
    "\n",
    "# Can call changeme function\n",
    "mylist = [10,20,30] #defined mylist here, if you don't have it then def won't work!\n",
    "changeme(mylist) # appending\n",
    "print (\"Values outside the function:\"), mylist\n",
    "\n",
    "#-----------------------------------------------------> Where is the None from?"
   ]
  },
  {
   "cell_type": "markdown",
   "metadata": {
    "collapsed": true
   },
   "source": [
    "### Function Arguments\n",
    "- Required arguments\n",
    "- Keyword arguments\n",
    "- Default arguments\n",
    "- Variable-length arguments"
   ]
  },
  {
   "cell_type": "code",
   "execution_count": null,
   "metadata": {
    "collapsed": true
   },
   "outputs": [],
   "source": []
  },
  {
   "cell_type": "code",
   "execution_count": null,
   "metadata": {
    "collapsed": true
   },
   "outputs": [],
   "source": []
  },
  {
   "cell_type": "code",
   "execution_count": null,
   "metadata": {
    "collapsed": true
   },
   "outputs": [],
   "source": []
  },
  {
   "cell_type": "code",
   "execution_count": null,
   "metadata": {
    "collapsed": true
   },
   "outputs": [],
   "source": []
  },
  {
   "cell_type": "code",
   "execution_count": null,
   "metadata": {
    "collapsed": true
   },
   "outputs": [],
   "source": []
  },
  {
   "cell_type": "code",
   "execution_count": null,
   "metadata": {
    "collapsed": true
   },
   "outputs": [],
   "source": []
  },
  {
   "cell_type": "code",
   "execution_count": null,
   "metadata": {
    "collapsed": true
   },
   "outputs": [],
   "source": []
  },
  {
   "cell_type": "code",
   "execution_count": null,
   "metadata": {
    "collapsed": true
   },
   "outputs": [],
   "source": []
  },
  {
   "cell_type": "code",
   "execution_count": null,
   "metadata": {
    "collapsed": true
   },
   "outputs": [],
   "source": []
  },
  {
   "cell_type": "code",
   "execution_count": null,
   "metadata": {
    "collapsed": true
   },
   "outputs": [],
   "source": []
  },
  {
   "cell_type": "code",
   "execution_count": null,
   "metadata": {
    "collapsed": true
   },
   "outputs": [],
   "source": []
  },
  {
   "cell_type": "code",
   "execution_count": null,
   "metadata": {
    "collapsed": true
   },
   "outputs": [],
   "source": []
  },
  {
   "cell_type": "code",
   "execution_count": null,
   "metadata": {
    "collapsed": true
   },
   "outputs": [],
   "source": []
  },
  {
   "cell_type": "code",
   "execution_count": null,
   "metadata": {
    "collapsed": true
   },
   "outputs": [],
   "source": []
  },
  {
   "cell_type": "code",
   "execution_count": null,
   "metadata": {
    "collapsed": true
   },
   "outputs": [],
   "source": []
  },
  {
   "cell_type": "code",
   "execution_count": null,
   "metadata": {
    "collapsed": true
   },
   "outputs": [],
   "source": []
  },
  {
   "cell_type": "code",
   "execution_count": null,
   "metadata": {
    "collapsed": true
   },
   "outputs": [],
   "source": []
  },
  {
   "cell_type": "code",
   "execution_count": null,
   "metadata": {
    "collapsed": true
   },
   "outputs": [],
   "source": []
  },
  {
   "cell_type": "code",
   "execution_count": null,
   "metadata": {
    "collapsed": true
   },
   "outputs": [],
   "source": []
  },
  {
   "cell_type": "code",
   "execution_count": null,
   "metadata": {
    "collapsed": true
   },
   "outputs": [],
   "source": []
  },
  {
   "cell_type": "code",
   "execution_count": null,
   "metadata": {
    "collapsed": true
   },
   "outputs": [],
   "source": []
  },
  {
   "cell_type": "code",
   "execution_count": null,
   "metadata": {
    "collapsed": true
   },
   "outputs": [],
   "source": []
  },
  {
   "cell_type": "code",
   "execution_count": null,
   "metadata": {
    "collapsed": true
   },
   "outputs": [],
   "source": []
  },
  {
   "cell_type": "code",
   "execution_count": null,
   "metadata": {
    "collapsed": true
   },
   "outputs": [],
   "source": []
  },
  {
   "cell_type": "code",
   "execution_count": null,
   "metadata": {
    "collapsed": true
   },
   "outputs": [],
   "source": []
  },
  {
   "cell_type": "code",
   "execution_count": null,
   "metadata": {
    "collapsed": true
   },
   "outputs": [],
   "source": []
  },
  {
   "cell_type": "code",
   "execution_count": null,
   "metadata": {
    "collapsed": true
   },
   "outputs": [],
   "source": []
  },
  {
   "cell_type": "code",
   "execution_count": null,
   "metadata": {
    "collapsed": true
   },
   "outputs": [],
   "source": []
  },
  {
   "cell_type": "code",
   "execution_count": null,
   "metadata": {
    "collapsed": true
   },
   "outputs": [],
   "source": []
  },
  {
   "cell_type": "code",
   "execution_count": null,
   "metadata": {
    "collapsed": true
   },
   "outputs": [],
   "source": []
  },
  {
   "cell_type": "code",
   "execution_count": null,
   "metadata": {
    "collapsed": true
   },
   "outputs": [],
   "source": []
  },
  {
   "cell_type": "code",
   "execution_count": null,
   "metadata": {
    "collapsed": true
   },
   "outputs": [],
   "source": []
  }
 ],
 "metadata": {
  "kernelspec": {
   "display_name": "Python 3",
   "language": "python",
   "name": "python3"
  },
  "language_info": {
   "codemirror_mode": {
    "name": "ipython",
    "version": 3
   },
   "file_extension": ".py",
   "mimetype": "text/x-python",
   "name": "python",
   "nbconvert_exporter": "python",
   "pygments_lexer": "ipython3",
   "version": "3.6.0"
  }
 },
 "nbformat": 4,
 "nbformat_minor": 2
}
